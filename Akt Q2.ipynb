{
 "cells": [
  {
   "cell_type": "code",
   "execution_count": 26,
   "id": "c21f9b18-adec-4a6d-b0de-a81caa28dbd9",
   "metadata": {},
   "outputs": [],
   "source": [
    "#Q2 Row Echelon Form:\n",
    "\n",
    "import numpy as np\n",
    "import sympy as sp"
   ]
  },
  {
   "cell_type": "code",
   "execution_count": 73,
   "id": "5582bbfe-0d43-4ea3-b547-a592cb5e7e64",
   "metadata": {},
   "outputs": [
    {
     "data": {
      "text/plain": [
       "array([[1, 9, 6, 5, 4],\n",
       "       [3, 5, 2, 9, 8],\n",
       "       [6, 5, 6, 4, 5],\n",
       "       [0, 5, 4, 3, 3],\n",
       "       [5, 5, 8, 8, 4]])"
      ]
     },
     "execution_count": 73,
     "metadata": {},
     "output_type": "execute_result"
    }
   ],
   "source": [
    "\n",
    "np.random.seed(34)\n",
    "A=np.random.randint(0,10,(5,5))\n",
    "A"
   ]
  },
  {
   "cell_type": "code",
   "execution_count": 74,
   "id": "bbee1a77-18f7-4559-ba39-a71c82e3b192",
   "metadata": {},
   "outputs": [
    {
     "data": {
      "text/plain": [
       "array([[  1,   9,   6,   5,   4],\n",
       "       [  0, -22, -16,  -6,  -4],\n",
       "       [  0, -49, -30, -26, -19],\n",
       "       [  0,   5,   4,   3,   3],\n",
       "       [  0, -40, -22, -17, -16]])"
      ]
     },
     "execution_count": 74,
     "metadata": {},
     "output_type": "execute_result"
    }
   ],
   "source": [
    "A[1]=A[1]-3*A[0]\n",
    "A[2]=A[2]-6*A[0]\n",
    "A[4]=A[4]-5*A[0]\n",
    "A"
   ]
  },
  {
   "cell_type": "code",
   "execution_count": 75,
   "id": "f57c52f5-0e64-4ff8-9527-30951774c4d6",
   "metadata": {},
   "outputs": [
    {
     "data": {
      "text/plain": [
       "array([[  1,   9,   6,   5,   4],\n",
       "       [  0,   1,   0,   0,   0],\n",
       "       [  0, -49, -30, -26, -19],\n",
       "       [  0,   5,   4,   3,   3],\n",
       "       [  0, -40, -22, -17, -16]])"
      ]
     },
     "execution_count": 75,
     "metadata": {},
     "output_type": "execute_result"
    }
   ],
   "source": [
    "A[1]=A[1]/-22\n",
    "A"
   ]
  },
  {
   "cell_type": "code",
   "execution_count": 76,
   "id": "63d4607b-bfc0-440c-8612-01ff724143e5",
   "metadata": {},
   "outputs": [
    {
     "data": {
      "text/plain": [
       "array([[  1,   9,   6,   5,   4],\n",
       "       [  0,   1,   0,   0,   0],\n",
       "       [  0,   0, -30, -26, -19],\n",
       "       [  0,   0,   4,   3,   3],\n",
       "       [  0,   0, -22, -17, -16]])"
      ]
     },
     "execution_count": 76,
     "metadata": {},
     "output_type": "execute_result"
    }
   ],
   "source": [
    "A[2]=A[2]+A[1]*49\n",
    "A[3]=A[3]-5*A[1]\n",
    "A[4]=A[4]+40*A[1]\n",
    "A"
   ]
  },
  {
   "cell_type": "code",
   "execution_count": 77,
   "id": "924efc48-b927-477f-9403-3c4a67b2330b",
   "metadata": {},
   "outputs": [
    {
     "data": {
      "text/plain": [
       "array([[  1,   9,   6,   5,   4],\n",
       "       [  0,   1,   0,   0,   0],\n",
       "       [  0,   0,   1,   0,   0],\n",
       "       [  0,   0,   4,   3,   3],\n",
       "       [  0,   0, -22, -17, -16]])"
      ]
     },
     "execution_count": 77,
     "metadata": {},
     "output_type": "execute_result"
    }
   ],
   "source": [
    "A[2]=A[2]/-30\n",
    "A"
   ]
  },
  {
   "cell_type": "code",
   "execution_count": 78,
   "id": "67c80857-1dfd-4b48-8ba8-1abdefac24e8",
   "metadata": {},
   "outputs": [
    {
     "data": {
      "text/plain": [
       "array([[  1,   9,   6,   5,   4],\n",
       "       [  0,   1,   0,   0,   0],\n",
       "       [  0,   0,   1,   0,   0],\n",
       "       [  0,   0,   0,   3,   3],\n",
       "       [  0,   0,   0, -17, -16]])"
      ]
     },
     "execution_count": 78,
     "metadata": {},
     "output_type": "execute_result"
    }
   ],
   "source": [
    "A[3]=A[3]-4*A[2]\n",
    "A[4]=A[4]+22*A[2]\n",
    "A"
   ]
  },
  {
   "cell_type": "code",
   "execution_count": 79,
   "id": "3e699314-2a76-48a9-8c44-56bce1035439",
   "metadata": {},
   "outputs": [
    {
     "data": {
      "text/plain": [
       "array([[  1,   9,   6,   5,   4],\n",
       "       [  0,   1,   0,   0,   0],\n",
       "       [  0,   0,   1,   0,   0],\n",
       "       [  0,   0,   0,   1,   1],\n",
       "       [  0,   0,   0, -17, -16]])"
      ]
     },
     "execution_count": 79,
     "metadata": {},
     "output_type": "execute_result"
    }
   ],
   "source": [
    "A[3]=A[3]/3\n",
    "A"
   ]
  },
  {
   "cell_type": "code",
   "execution_count": 80,
   "id": "8a727ac6-514b-4838-8617-20e353a6d5b6",
   "metadata": {},
   "outputs": [
    {
     "data": {
      "text/plain": [
       "array([[1, 9, 6, 5, 4],\n",
       "       [0, 1, 0, 0, 0],\n",
       "       [0, 0, 1, 0, 0],\n",
       "       [0, 0, 0, 1, 1],\n",
       "       [0, 0, 0, 0, 1]])"
      ]
     },
     "execution_count": 80,
     "metadata": {},
     "output_type": "execute_result"
    }
   ],
   "source": [
    "A[4]=A[4]+17*A[3]\n",
    "A"
   ]
  }
 ],
 "metadata": {
  "kernelspec": {
   "display_name": "Python 3 (ipykernel)",
   "language": "python",
   "name": "python3"
  },
  "language_info": {
   "codemirror_mode": {
    "name": "ipython",
    "version": 3
   },
   "file_extension": ".py",
   "mimetype": "text/x-python",
   "name": "python",
   "nbconvert_exporter": "python",
   "pygments_lexer": "ipython3",
   "version": "3.11.7"
  }
 },
 "nbformat": 4,
 "nbformat_minor": 5
}
