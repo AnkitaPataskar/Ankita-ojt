{
 "cells": [
  {
   "cell_type": "code",
   "execution_count": 2,
   "id": "d5f3cb9c-b31e-460b-b675-1de60536f38e",
   "metadata": {},
   "outputs": [],
   "source": [
    "#Q3 Singular Value Decomposition \n",
    "import numpy as np\n",
    "import sympy as sp"
   ]
  },
  {
   "cell_type": "code",
   "execution_count": 3,
   "id": "98b31486-c9c1-4c47-80f7-9b465ddd458b",
   "metadata": {},
   "outputs": [
    {
     "data": {
      "text/plain": [
       "array([[1, 9, 6, 5, 4],\n",
       "       [3, 5, 2, 9, 8],\n",
       "       [6, 5, 6, 4, 5],\n",
       "       [0, 5, 4, 3, 3],\n",
       "       [5, 5, 8, 8, 4]])"
      ]
     },
     "execution_count": 3,
     "metadata": {},
     "output_type": "execute_result"
    }
   ],
   "source": [
    "np.random.seed(34)\n",
    "A=np.random.randint(0,10,(5,5))\n",
    "A"
   ]
  },
  {
   "cell_type": "code",
   "execution_count": 4,
   "id": "457443dc-eb0e-4a00-b7c6-c131ece5c192",
   "metadata": {},
   "outputs": [
    {
     "data": {
      "text/plain": [
       "array([[-0.4645496 , -0.49259349,  0.51500102, -0.05832695,  0.52241481],\n",
       "       [-0.48539071,  0.81469407,  0.31304946, -0.04637521,  0.02277732],\n",
       "       [-0.43694474, -0.10062491, -0.51929534, -0.72562269, -0.05251651],\n",
       "       [-0.281442  , -0.27613638,  0.34722415,  0.02083738, -0.85061172],\n",
       "       [-0.52769235, -0.08513849, -0.49652968,  0.68372861,  0.01629961]])"
      ]
     },
     "execution_count": 4,
     "metadata": {},
     "output_type": "execute_result"
    }
   ],
   "source": [
    "U,s,VT= np.linalg.svd(A)\n",
    "U"
   ]
  },
  {
   "cell_type": "code",
   "execution_count": 5,
   "id": "7e9d5f37-2f48-4fad-8361-ce51aa0f1103",
   "metadata": {},
   "outputs": [
    {
     "data": {
      "text/plain": [
       "array([[25.58695156,  0.        ,  0.        ,  0.        ,  0.        ],\n",
       "       [ 0.        ,  6.22838326,  0.        ,  0.        ,  0.        ],\n",
       "       [ 0.        ,  0.        ,  5.51966431,  0.        ,  0.        ],\n",
       "       [ 0.        ,  0.        ,  0.        ,  2.88917909,  0.        ],\n",
       "       [ 0.        ,  0.        ,  0.        ,  0.        ,  0.83731837]])"
      ]
     },
     "execution_count": 5,
     "metadata": {},
     "output_type": "execute_result"
    }
   ],
   "source": [
    "S=np.zeros((A.shape[0], A.shape[1]))\n",
    "S[:A.shape[1],:A.shape[0]]=np.diag(s)\n",
    "S"
   ]
  },
  {
   "cell_type": "code",
   "execution_count": 6,
   "id": "7d30a546-053c-44a2-a9ea-19acc47d1ed8",
   "metadata": {},
   "outputs": [
    {
     "data": {
      "text/plain": [
       "array([[-0.28064508, -0.50175166, -0.45832167, -0.5278045 , -0.42526141],\n",
       "       [ 0.14803952, -0.42858151, -0.5965554 ,  0.47480419,  0.46161112],\n",
       "       [-0.75081939,  0.51764963, -0.35926239,  0.06969698,  0.18542375],\n",
       "       [-0.39199566, -0.29838998,  0.26191874,  0.66483889, -0.49667962],\n",
       "       [ 0.4265352 ,  0.45559351, -0.48620162,  0.22161896, -0.57008359]])"
      ]
     },
     "execution_count": 6,
     "metadata": {},
     "output_type": "execute_result"
    }
   ],
   "source": [
    "VT"
   ]
  },
  {
   "cell_type": "code",
   "execution_count": 7,
   "id": "b3f8fee0-2e87-4a48-9bfc-1e6e4fa54db2",
   "metadata": {},
   "outputs": [
    {
     "data": {
      "text/plain": [
       "array([[1., 9., 6., 5., 4.],\n",
       "       [3., 5., 2., 9., 8.],\n",
       "       [6., 5., 6., 4., 5.],\n",
       "       [0., 5., 4., 3., 3.],\n",
       "       [5., 5., 8., 8., 4.]])"
      ]
     },
     "execution_count": 7,
     "metadata": {},
     "output_type": "execute_result"
    }
   ],
   "source": [
    "M=U@S@VT\n",
    "np.round(M)"
   ]
  },
  {
   "cell_type": "code",
   "execution_count": 8,
   "id": "91c17456-84e6-4b66-bd69-f1ac9a8646a1",
   "metadata": {},
   "outputs": [
    {
     "data": {
      "text/plain": [
       "array([[ True,  True,  True,  True,  True],\n",
       "       [ True,  True,  True,  True,  True],\n",
       "       [ True,  True,  True,  True,  True],\n",
       "       [ True,  True,  True,  True,  True],\n",
       "       [ True,  True,  True,  True,  True]])"
      ]
     },
     "execution_count": 8,
     "metadata": {},
     "output_type": "execute_result"
    }
   ],
   "source": [
    "A==np.round(M)"
   ]
  },
  {
   "cell_type": "code",
   "execution_count": 9,
   "id": "4d251fdb-a9ba-4a8e-b451-80122e544971",
   "metadata": {},
   "outputs": [
    {
     "data": {
      "text/plain": [
       "array([[3., 7., 7., 5., 4.],\n",
       "       [4., 4., 3., 9., 8.],\n",
       "       [3., 6., 5., 6., 4.],\n",
       "       [2., 4., 4., 3., 2.],\n",
       "       [4., 7., 7., 7., 5.]])"
      ]
     },
     "execution_count": 9,
     "metadata": {},
     "output_type": "execute_result"
    }
   ],
   "source": [
    "# Rank 2 Approximation\n",
    "\n",
    "A2 = np.dot(U[:, :2], np.dot(np.diag(s[:2]), VT[:2, :]))\n",
    "np.round(A2)"
   ]
  },
  {
   "cell_type": "code",
   "execution_count": 10,
   "id": "e00e86d0-b202-47d8-94a5-9c288d03fbd4",
   "metadata": {},
   "outputs": [
    {
     "data": {
      "text/plain": [
       "array([[1., 9., 6., 5., 4.],\n",
       "       [3., 5., 2., 9., 8.],\n",
       "       [5., 4., 7., 5., 4.],\n",
       "       [0., 5., 4., 3., 3.],\n",
       "       [6., 6., 7., 7., 5.]])"
      ]
     },
     "execution_count": 10,
     "metadata": {},
     "output_type": "execute_result"
    }
   ],
   "source": [
    "# Rank 3 Approximation\n",
    "A3 = np.dot(U[:, :3], np.dot(np.diag(s[:3]), VT[:3, :]))\n",
    "np.round(A3)"
   ]
  },
  {
   "cell_type": "code",
   "execution_count": null,
   "id": "78b0a30e-0548-4731-a39b-ad7d6437f1d1",
   "metadata": {},
   "outputs": [],
   "source": []
  }
 ],
 "metadata": {
  "kernelspec": {
   "display_name": "Python 3 (ipykernel)",
   "language": "python",
   "name": "python3"
  },
  "language_info": {
   "codemirror_mode": {
    "name": "ipython",
    "version": 3
   },
   "file_extension": ".py",
   "mimetype": "text/x-python",
   "name": "python",
   "nbconvert_exporter": "python",
   "pygments_lexer": "ipython3",
   "version": "3.11.7"
  }
 },
 "nbformat": 4,
 "nbformat_minor": 5
}
